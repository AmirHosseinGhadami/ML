{
 "cells": [
  {
   "cell_type": "code",
   "execution_count": 2,
   "metadata": {},
   "outputs": [],
   "source": [
    "import numpy as np\n",
    "import pandas as pd \n",
    "from sklearn.model_selection import train_test_split\n",
    "from sklearn import datasets \n",
    "import matplotlib.pyplot as plt"
   ]
  },
  {
   "cell_type": "code",
   "execution_count": 3,
   "metadata": {},
   "outputs": [],
   "source": [
    "bc =datasets.load_breast_cancer()\n",
    "X ,y = bc.data,bc.target"
   ]
  },
  {
   "cell_type": "code",
   "execution_count": 4,
   "metadata": {},
   "outputs": [],
   "source": [
    "x_train ,x_test ,y_train ,y_test = train_test_split(X,y ,test_size=0.2 ,random_state=1)"
   ]
  },
  {
   "cell_type": "code",
   "execution_count": 5,
   "metadata": {},
   "outputs": [],
   "source": [
    "def sigmoid(x,bias,weight):\n",
    "    w = wx(x,bias ,weight)\n",
    "    hx = 1/(1+np.exp(-w))\n",
    "    return hx"
   ]
  },
  {
   "cell_type": "code",
   "execution_count": 6,
   "metadata": {},
   "outputs": [],
   "source": [
    "def wx(x,bias ,weight):\n",
    "    wx = (np.dot(x,weight.T)+bias)\n",
    "    return wx"
   ]
  },
  {
   "cell_type": "code",
   "execution_count": 7,
   "metadata": {},
   "outputs": [],
   "source": [
    "def init_parameters(x,y,alpha ,iter):\n",
    "    n_samples,n_features = x.shape\n",
    "    weight = np.zeros(n_features)\n",
    "    bias = 0\n",
    "    return n_samples,n_features,weight,bias"
   ]
  },
  {
   "cell_type": "code",
   "execution_count": 8,
   "metadata": {},
   "outputs": [],
   "source": [
    "def gradient_descent(alpha,iter,weight,bias,x,y):\n",
    "    m = y.size\n",
    "    \n",
    "    for i in range(iter):\n",
    "        hx = sigmoid(x,bias,weight)\n",
    "        \n",
    "        db = (1/m) * (np.sum(hx-y))\n",
    "        dw = (1/m) * (np.dot(x.T,(hx-y)))\n",
    "        \n",
    "        weight -= alpha * dw\n",
    "        bias -= alpha * db\n",
    "        \n",
    "    return bias,weight"
   ]
  },
  {
   "cell_type": "code",
   "execution_count": 9,
   "metadata": {},
   "outputs": [],
   "source": [
    "def predict(x,weight ,bias):\n",
    "    y_predic = sigmoid(x,bias,weight)\n",
    "    y_predicted =[1 if i>=0.5 else 0 for i in y_predic]\n",
    "    return y_predicted\n",
    "        "
   ]
  },
  {
   "cell_type": "code",
   "execution_count": 10,
   "metadata": {},
   "outputs": [],
   "source": [
    "def logistic_regression(x,y,alpha=0.01 ,iter = 10000):\n",
    "    n_samples,n_features,weight,bias=init_parameters(x,y,alpha ,iter)\n",
    "    bias ,weight = gradient_descent(alpha,iter,weight,bias,x,y)\n",
    "    \n",
    "    y_predict = predict(x,weight ,bias)\n",
    "    \n",
    "    return y_predict"
   ]
  },
  {
   "cell_type": "code",
   "execution_count": 23,
   "metadata": {},
   "outputs": [],
   "source": [
    "def accuracy (predicted ,y_test):\n",
    "    a = np.mean(predicted == y_test)\n",
    "    return a"
   ]
  },
  {
   "cell_type": "code",
   "execution_count": 24,
   "metadata": {},
   "outputs": [
    {
     "name": "stderr",
     "output_type": "stream",
     "text": [
      "<ipython-input-5-011d553fb50b>:3: RuntimeWarning: overflow encountered in exp\n",
      "  hx = 1/(1+np.exp(-w))\n"
     ]
    }
   ],
   "source": [
    "predicted=logistic_regression(x_train,y_train)"
   ]
  },
  {
   "cell_type": "code",
   "execution_count": 25,
   "metadata": {},
   "outputs": [
    {
     "data": {
      "text/plain": [
       "0.9296703296703297"
      ]
     },
     "execution_count": 25,
     "metadata": {},
     "output_type": "execute_result"
    }
   ],
   "source": [
    "accuracy(predicted,y_train)"
   ]
  },
  {
   "cell_type": "code",
   "execution_count": null,
   "metadata": {},
   "outputs": [],
   "source": []
  }
 ],
 "metadata": {
  "kernelspec": {
   "display_name": "Python 3",
   "language": "python",
   "name": "python3"
  },
  "language_info": {
   "codemirror_mode": {
    "name": "ipython",
    "version": 3
   },
   "file_extension": ".py",
   "mimetype": "text/x-python",
   "name": "python",
   "nbconvert_exporter": "python",
   "pygments_lexer": "ipython3",
   "version": "3.8.0"
  }
 },
 "nbformat": 4,
 "nbformat_minor": 4
}
