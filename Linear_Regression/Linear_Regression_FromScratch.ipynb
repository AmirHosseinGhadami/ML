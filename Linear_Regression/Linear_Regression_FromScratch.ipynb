{
 "cells": [
  {
   "cell_type": "code",
   "execution_count": 4,
   "metadata": {},
   "outputs": [],
   "source": [
    "import numpy as np\n",
    "import matplotlib.pyplot as plt\n",
    "from sklearn.model_selection import train_test_split\n",
    "from sklearn import datasets"
   ]
  },
  {
   "cell_type": "code",
   "execution_count": 8,
   "metadata": {},
   "outputs": [],
   "source": [
    "X,y = datasets.make_regression(n_samples=100 ,n_features=3,noise=20,random_state=4)\n",
    "x_train ,x_test,y_train,y_test = train_test_split(X , y , test_size=0.2 , random_state=0)"
   ]
  },
  {
   "cell_type": "code",
   "execution_count": 6,
   "metadata": {},
   "outputs": [
    {
     "data": {
      "text/plain": [
       "<matplotlib.collections.PathCollection at 0x1f3684c63d0>"
      ]
     },
     "execution_count": 6,
     "metadata": {},
     "output_type": "execute_result"
    },
    {
     "data": {
      "image/png": "[encoded data removed]",
      "text/plain": [
       "<Figure size 432x288 with 1 Axes>"
      ]
     },
     "metadata": {
      "needs_background": "light"
     },
     "output_type": "display_data"
    }
   ],
   "source": [
    "plt.scatter(X,y)"
   ]
  },
  {
   "cell_type": "code",
   "execution_count": 7,
   "metadata": {},
   "outputs": [],
   "source": [
    "def init_parameter(x,y):\n",
    "    n_sample,n_features = x.shape\n",
    "    weight = np.zeros(n_features)\n",
    "    bias = 0\n",
    "    return n_sample,n_features,weight,bias"
   ]
  },
  {
   "cell_type": "code",
   "execution_count": 5,
   "metadata": {},
   "outputs": [],
   "source": [
    "def hipothesis(x,weight,bias):\n",
    "    hx = np.dot(x,weight.T) + bias\n",
    "    return hx"
   ]
  },
  {
   "cell_type": "code",
   "execution_count": 6,
   "metadata": {},
   "outputs": [],
   "source": [
    "def gradient_descent(alpha,iter,weight,bias,x,y):\n",
    "    m = y.size\n",
    "    for i in range(iter):\n",
    "        hx = hipothesis(x,weight,bias)\n",
    "        db = (1/m) * (np.sum(hx-y))\n",
    "        dw = (1/m) * (np.dot(x.T,(hx-y)))\n",
    "        \n",
    "        bias   -= alpha*db\n",
    "        weight -= alpha*dw\n",
    "        \n",
    "        \n",
    "    return bias,weight\n"
   ]
  },
  {
   "cell_type": "code",
   "execution_count": 7,
   "metadata": {},
   "outputs": [],
   "source": [
    "def linear_regression(x,y,alpha=0.1,iter=1000):\n",
    "    \n",
    "    n_sample,n_features,weight,bias = init_parameter(x,y)\n",
    "    bias,weight = gradient_descent(alpha,iter,weight,bias,x,y)\n",
    "    predict = np.dot(x,weight.T) + bias\n",
    "    \n",
    "    return predict"
   ]
  },
  {
   "cell_type": "code",
   "execution_count": 8,
   "metadata": {},
   "outputs": [],
   "source": [
    "overal_y_predicted = linear_regression(X,y)"
   ]
  },
  {
   "cell_type": "code",
   "execution_count": 11,
   "metadata": {},
   "outputs": [
    {
     "data": {
      "text/plain": [
       "[<matplotlib.lines.Line2D at 0x11df05774f0>]"
      ]
     },
     "execution_count": 11,
     "metadata": {},
     "output_type": "execute_result"
    },
    {
     "data": {
      "image/png": "[encoded data removed]",
      "text/plain": [
       "<Figure size 432x288 with 1 Axes>"
      ]
     },
     "metadata": {
      "needs_background": "light"
     },
     "output_type": "display_data"
    }
   ],
   "source": [
    "plt.scatter(X,y)\n",
    "plt.plot(X,overal_y_predicted,color='red')"
   ]
  },
  {
   "cell_type": "code",
   "execution_count": 25,
   "metadata": {},
   "outputs": [
    {
     "data": {
      "text/plain": [
       "array([ 1.3799201 , -0.45104291,  1.27181862, -0.23596712, -0.08988441,\n",
       "        0.63251446,  0.09626794, -0.67690095, -0.34125599,  0.2426732 ,\n",
       "        0.05705716,  0.18428476,  0.04947654, -1.49585236, -1.17895602,\n",
       "        0.05056171, -0.17271986, -0.52819607,  0.64979034,  0.05517757,\n",
       "       -0.59038339, -0.65122583, -1.54292905,  0.64931448,  0.01908996,\n",
       "        0.11492218, -0.09634524,  0.55618522,  1.99008302, -1.41622753,\n",
       "        0.72334161,  1.61724121, -1.20740046, -0.39941428, -0.20718168,\n",
       "        2.47658416,  0.32793911, -1.23313682, -0.39525945,  1.91525157,\n",
       "        0.59016317,  2.12532215,  0.7965119 , -1.97175308,  0.08126377,\n",
       "        1.74544451,  2.08787087,  1.01156174,  0.35099715, -2.35807363,\n",
       "        0.5080733 ,  0.65746416,  0.4250724 ,  0.61474063, -0.24125867,\n",
       "        1.10917458,  1.00598199, -0.37060219, -0.64770677,  0.22225175,\n",
       "       -1.84087587,  0.76410567,  0.35879083,  0.77399926,  0.28086468,\n",
       "       -0.77873992, -1.10457461, -1.30653867, -1.07529009, -1.3474603 ,\n",
       "        1.44593286, -0.49581852,  0.04860301, -2.20206458, -0.7322647 ,\n",
       "        0.67380149,  0.03863521,  0.69359851, -0.48287869, -1.0448237 ,\n",
       "        0.42584671, -1.96601472, -1.24621209, -0.58059517,  0.93465006,\n",
       "        2.22336022, -1.14747663, -0.19674528, -0.37444492, -1.11281215,\n",
       "        0.40805817,  0.05443274,  0.99368378,  1.06569977,  0.23387359,\n",
       "        1.91728485,  0.80208661,  0.50181025,  0.18083331,  0.7130868 ])"
      ]
     },
     "execution_count": 25,
     "metadata": {},
     "output_type": "execute_result"
    }
   ],
   "source": [
    " "
   ]
  },
  {
   "cell_type": "code",
   "execution_count": null,
   "metadata": {},
   "outputs": [],
   "source": []
  },
  {
   "cell_type": "code",
   "execution_count": null,
   "metadata": {},
   "outputs": [],
   "source": []
  }
 ],
 "metadata": {
  "kernelspec": {
   "display_name": "Python 3",
   "language": "python",
   "name": "python3"
  },
  "language_info": {
   "codemirror_mode": {
    "name": "ipython",
    "version": 3
   },
   "file_extension": ".py",
   "mimetype": "text/x-python",
   "name": "python",
   "nbconvert_exporter": "python",
   "pygments_lexer": "ipython3",
   "version": "3.8.0"
  }
 },
 "nbformat": 4,
 "nbformat_minor": 4
}
