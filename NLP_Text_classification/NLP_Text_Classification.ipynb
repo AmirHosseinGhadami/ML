{
 "cells": [
  {
   "cell_type": "markdown",
   "metadata": {},
   "source": [
    "Authors: Amirhossein Ghadami "
   ]
  },
  {
   "cell_type": "code",
   "execution_count": 11,
   "metadata": {},
   "outputs": [],
   "source": [
    "import numpy as np\n",
    "import pandas as pd\n",
    "from sklearn.model_selection import train_test_split\n",
    "from sklearn.linear_model import LogisticRegression\n",
    "from sklearn.preprocessing import LabelEncoder, Normalizer\n",
    "from stop_words import get_stop_words\n",
    "from nltk.stem import PorterStemmer\n",
    "from nltk.stem import WordNetLemmatizer\n",
    "from sklearn.feature_extraction.text import TfidfVectorizer\n",
    "from sklearn.metrics import accuracy_score,confusion_matrix \n",
    "from sklearn.neural_network import MLPClassifier\n",
    "from sklearn.svm import SVC\n",
    "import re\n",
    "from nltk import pos_tag\n",
    "import string\n",
    "import nltk"
   ]
  },
  {
   "cell_type": "code",
   "execution_count": 2,
   "metadata": {},
   "outputs": [],
   "source": [
    "#Importing data\n",
    "def import_data(direction):\n",
    "\n",
    "    try:\n",
    "        with open(direction ,'r',encoding='utf8') as file:\n",
    "            train = file.readlines()\n",
    "            \n",
    "    except:\n",
    "        print('wrong direction')\n",
    "\n",
    "    \n",
    "            \n",
    "    return train   \n",
    "    "
   ]
  },
  {
   "cell_type": "code",
   "execution_count": 3,
   "metadata": {},
   "outputs": [],
   "source": [
    "# This function does two jobs {1-tokenization    2-making corpus}\n",
    "\n",
    "def change(x ,tokenization = True):\n",
    "    \n",
    "    if tokenization == True:\n",
    "        \n",
    "        list = []\n",
    "        for i in x:\n",
    "            item = i.strip().split()\n",
    "            list.append(item)\n",
    "            \n",
    "\n",
    "        return list\n",
    "    \n",
    "    else :\n",
    "        string = []\n",
    "        for i in x:\n",
    "            str_list = []\n",
    "            str_list = ' '.join(i)\n",
    "            string.append(str_list)\n",
    "            \n",
    "        return string "
   ]
  },
  {
   "cell_type": "code",
   "execution_count": 4,
   "metadata": {},
   "outputs": [],
   "source": [
    "#Split data into label and samples \n",
    "\n",
    "def splitting_data(lst):\n",
    "    \n",
    "    labels=[]\n",
    "    samples = []\n",
    "    for i in lst:\n",
    "        \n",
    "        splited_item = i.split(',')[0]\n",
    "        samples.append(i.split(',')[1:])\n",
    "        string_label = re.findall('[1-4]',splited_item)[0]\n",
    "        labels.append(int(string_label))\n",
    "    \n",
    "    samples = change(samples ,tokenization=False)\n",
    "    \n",
    "    return samples,labels"
   ]
  },
  {
   "cell_type": "code",
   "execution_count": 5,
   "metadata": {},
   "outputs": [],
   "source": [
    "#remove stop words\n",
    "\n",
    "def remove_stop_words(lst):\n",
    "    \n",
    "    stop_words = get_stop_words('en')\n",
    "    for i in lst:\n",
    "        lent = len(i)\n",
    "        j = 0 \n",
    "        while j<lent:\n",
    "            if i[j].lower() in stop_words:\n",
    "                    del i[j]\n",
    "                    lent -=1\n",
    "                    j-=1\n",
    "            j+=1\n",
    "            \n",
    "    return lst          "
   ]
  },
  {
   "cell_type": "code",
   "execution_count": 6,
   "metadata": {},
   "outputs": [],
   "source": [
    "# normalization\n",
    "\n",
    "def stemmer(lst):\n",
    "    st = PorterStemmer()\n",
    "    samples_stemm=[]\n",
    "    \n",
    "    for i in lst:\n",
    "        b=[]\n",
    "        for j in i:\n",
    "            b.append(st.stem(j))\n",
    "            \n",
    "        samples_stemm.append(b)        \n",
    "            \n",
    "    return samples_stemm       "
   ]
  },
  {
   "cell_type": "code",
   "execution_count": 7,
   "metadata": {},
   "outputs": [],
   "source": [
    "#normalization\n",
    "\n",
    "def lemmatizing(lst):\n",
    "    lem = WordNetLemmatizer()\n",
    "    \n",
    "    samples_lem =[]\n",
    "    for i in lst:\n",
    "        c =[]\n",
    "        for j in i:\n",
    "            c.append(lem.lemmatize(j))\n",
    "        samples_lem.append(c)\n",
    "    return samples_lem     "
   ]
  },
  {
   "cell_type": "code",
   "execution_count": 8,
   "metadata": {},
   "outputs": [],
   "source": [
    "#TF_IDF\n",
    "\n",
    "def tf_idf(lst1):\n",
    "\n",
    "    vectorizer = TfidfVectorizer()\n",
    "    vectorizer.fit(lst1)\n",
    "    list1      = vectorizer.transform(lst1)\n",
    "\n",
    "    \n",
    "\n",
    "    \n",
    "    return list1"
   ]
  },
  {
   "cell_type": "code",
   "execution_count": 55,
   "metadata": {},
   "outputs": [],
   "source": [
    "# Part Of Speech\n",
    "\n",
    "def find_part_of_speech(lst):\n",
    "    possition =[]\n",
    "    for i in lst :\n",
    "        item  = pos_tag(i)\n",
    "        possition.append(item)\n",
    "        \n",
    "    return possition    "
   ]
  },
  {
   "cell_type": "code",
   "execution_count": 63,
   "metadata": {},
   "outputs": [],
   "source": [
    "#This function extracs verbs and adjs\n",
    "\n",
    "def extract_adj_noun(lst_of_tuple):\n",
    "    extracted = []\n",
    "    for i in lst_of_tuple:\n",
    "        item = [j[0]  for j in i if j[1]=='VB'or j[1]=='JJ']\n",
    "        extracted.append(item)\n",
    "        \n",
    "    return extracted    "
   ]
  },
  {
   "cell_type": "code",
   "execution_count": 34,
   "metadata": {},
   "outputs": [],
   "source": [
    "# change to numpy\n",
    "\n",
    "def sparce_to_numpy(sparce_matrix):\n",
    "    \n",
    "    df=pd.DataFrame.sparse.from_spmatrix(sparce_matrix)\n",
    "    array=df.to_numpy()\n",
    "    \n",
    "    return array"
   ]
  },
  {
   "cell_type": "code",
   "execution_count": 35,
   "metadata": {},
   "outputs": [],
   "source": [
    "def mixed_two_array(arr1,arr2):\n",
    "    return np.concatenate((arr1,arr2),axis=1)"
   ]
  },
  {
   "cell_type": "code",
   "execution_count": 13,
   "metadata": {},
   "outputs": [],
   "source": [
    "def preprocessing_data(direction):\n",
    "    \n",
    "    train                        = import_data(direction)                    # importing data\n",
    "    \n",
    "    samples , labels             = splitting_data(train[:10000])             # splitting Data\n",
    "    \n",
    "    samples_tokenize             = change(samples)                           # Tokenization step\n",
    "    \n",
    "    samples_stopRemove           = remove_stop_words(samples_tokenize)       # removing Junck words \n",
    "    \n",
    "    samples_lemma                = lemmatizing(samples_stopRemove)           # lemmatization Step\n",
    "\n",
    "    samples_stemm                = stemmer(samples_lemma)                    # Stemming Step\n",
    "    \n",
    "    corpus_train                 = change(samples_lemma,tokenization=False)  # corpuse for each row\n",
    "    \n",
    "    samples_tf_idf               = tf_idf(corpus_train)                      #TF _ IDF\n",
    "    \n",
    "    samples_ready                = sparce_to_numpy(samples_tf_idf)           # change to numpy array\n",
    "    \n",
    "    labels_ready                 = labels\n",
    "    \n",
    "    \n",
    "    #---------------------------part of speech\n",
    "    # by This part we extract adj and verbs and add it to the train TF_IDF dataset, to emphesis the adj and verbs \n",
    "    \n",
    "    \n",
    "    list_of_tuple                = find_part_of_speech(samples_stemm )  \n",
    "    \n",
    "    extracted_words              = extract_adj_noun(list_of_tuple)          \n",
    "    \n",
    "    corpus_part_speech           = change(extracted_words,tokenization=False) \n",
    "    \n",
    "    tf_idf_part_speech           = tf_idf(corpus_part_speech)\n",
    "    \n",
    "    part_speech_ready            = sparce_to_numpy(tf_idf_part_speech)\n",
    "    \n",
    "    \n",
    "    #---------------------------mixed\n",
    "    \n",
    "    mixed_samples                = mixed_two_array(samples_ready,part_speech_ready)\n",
    "    \n",
    "    \n",
    "    x_train , x_test ,y_train ,y_test = train_test_split(mixed_samples ,labels_ready , random_state = 2 ,test_size=0.2)\n",
    "    \n",
    "    return x_train , x_test ,y_train ,y_test\n",
    "    "
   ]
  },
  {
   "cell_type": "code",
   "execution_count": 14,
   "metadata": {},
   "outputs": [],
   "source": [
    "def train_test_logistic_model(x_train,x_test,y_train,y_test):\n",
    "    \n",
    "    classifier= LogisticRegression()                                       #make a classifier object                      \n",
    "    classifier.fit(x_train , y_train)                                            \n",
    "    \n",
    "    y_predict = classifier.predict(x_test)\n",
    "    accuracy  = accuracy_score(y_predict , y_test) \n",
    "\n",
    "    return accuracy"
   ]
  },
  {
   "cell_type": "code",
   "execution_count": 15,
   "metadata": {},
   "outputs": [],
   "source": [
    "def train_test_nn_model(x_train,x_test,y_train,y_test):\n",
    "\n",
    "    \n",
    "    nn = MLPClassifier(early_stopping=True,hidden_layer_sizes=(100, ),activation='logistic',random_state=0)\n",
    "    nn.fit(x_train,y_train)\n",
    "    \n",
    "    y_predict = nn.predict(x_test)\n",
    "    accuracy  = accuracy_score(y_predict , y_test) \n",
    "        \n",
    "    return accuracy"
   ]
  },
  {
   "cell_type": "code",
   "execution_count": 16,
   "metadata": {},
   "outputs": [],
   "source": [
    "x_train , x_test ,y_train ,y_test = preprocessing_data('train.csv')"
   ]
  },
  {
   "cell_type": "code",
   "execution_count": 17,
   "metadata": {},
   "outputs": [
    {
     "data": {
      "text/plain": [
       "0.8875"
      ]
     },
     "execution_count": 17,
     "metadata": {},
     "output_type": "execute_result"
    }
   ],
   "source": [
    "train_test_nn_model(x_train,x_test,y_train,y_test)"
   ]
  },
  {
   "cell_type": "code",
   "execution_count": 18,
   "metadata": {},
   "outputs": [
    {
     "name": "stderr",
     "output_type": "stream",
     "text": [
      "c:\\users\\amirhosein\\appdata\\local\\programs\\python\\python38\\lib\\site-packages\\sklearn\\linear_model\\_logistic.py:762: ConvergenceWarning: lbfgs failed to converge (status=1):\n",
      "STOP: TOTAL NO. of ITERATIONS REACHED LIMIT.\n",
      "\n",
      "Increase the number of iterations (max_iter) or scale the data as shown in:\n",
      "    https://scikit-learn.org/stable/modules/preprocessing.html\n",
      "Please also refer to the documentation for alternative solver options:\n",
      "    https://scikit-learn.org/stable/modules/linear_model.html#logistic-regression\n",
      "  n_iter_i = _check_optimize_result(\n"
     ]
    },
    {
     "data": {
      "text/plain": [
       "0.885"
      ]
     },
     "execution_count": 18,
     "metadata": {},
     "output_type": "execute_result"
    }
   ],
   "source": [
    "train_test_logistic_model(x_train,x_test,y_train,y_test)"
   ]
  }
 ],
 "metadata": {
  "kernelspec": {
   "display_name": "Python 3 (ipykernel)",
   "language": "python",
   "name": "python3"
  },
  "language_info": {
   "codemirror_mode": {
    "name": "ipython",
    "version": 3
   },
   "file_extension": ".py",
   "mimetype": "text/x-python",
   "name": "python",
   "nbconvert_exporter": "python",
   "pygments_lexer": "ipython3",
   "version": "3.9.7"
  }
 },
 "nbformat": 4,
 "nbformat_minor": 4
}
