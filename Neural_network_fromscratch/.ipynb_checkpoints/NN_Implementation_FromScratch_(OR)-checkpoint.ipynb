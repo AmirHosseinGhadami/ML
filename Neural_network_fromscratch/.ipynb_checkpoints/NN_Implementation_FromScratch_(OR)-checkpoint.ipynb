{
 "cells": [
  {
   "cell_type": "code",
   "execution_count": 5,
   "metadata": {},
   "outputs": [],
   "source": [
    "import numpy as np"
   ]
  },
  {
   "cell_type": "code",
   "execution_count": 6,
   "metadata": {},
   "outputs": [],
   "source": [
    "def sigmoid_derivative(z):\n",
    "    return z * (1-z)"
   ]
  },
  {
   "cell_type": "code",
   "execution_count": 7,
   "metadata": {},
   "outputs": [],
   "source": [
    "def sigmoid(wx):\n",
    "    hx = 1/(1+np.exp(-wx))\n",
    "    return hx"
   ]
  },
  {
   "cell_type": "code",
   "execution_count": 23,
   "metadata": {},
   "outputs": [],
   "source": [
    "np.random.seed(2)\n",
    "weights = np.random.randn(1,3)\n",
    "alpha=0.1"
   ]
  },
  {
   "cell_type": "code",
   "execution_count": 24,
   "metadata": {},
   "outputs": [],
   "source": [
    "x = np.array([[1,0,0],[1,0,1],[1,1,0],[1,1,1]])\n",
    "y = np.array([[0, 1, 1, 1]]).T"
   ]
  },
  {
   "cell_type": "code",
   "execution_count": 25,
   "metadata": {},
   "outputs": [],
   "source": [
    "for _ in range(1000):\n",
    "    for i in range(x.shape[0]):\n",
    "        a1 = x[i]\n",
    "        z2 = np.dot(weights,a1.reshape(-1,1))\n",
    "        a2 = sigmoid(z2)\n",
    "\n",
    "        error_output = (a2 - y[i]) * sigmoid_derivative(a2)\n",
    "        delta = np.dot(error_output,a1.reshape(1,-1))\n",
    "\n",
    "        weights -=alpha* delta\n"
   ]
  },
  {
   "cell_type": "code",
   "execution_count": 26,
   "metadata": {},
   "outputs": [],
   "source": [
    "#Testing the result\n",
    "first_sample = np.array([1,0,0])\n",
    "first_result = sigmoid(np.dot(weights,first_sample.reshape(-1,1)))\n",
    "\n",
    "second_sample = np.array([1,1,1])\n",
    "second_result = sigmoid(np.dot(weights,second_sample.reshape(-1,1)))"
   ]
  },
  {
   "cell_type": "code",
   "execution_count": 27,
   "metadata": {},
   "outputs": [
    {
     "data": {
      "text/plain": [
       "array([[0.21718136]])"
      ]
     },
     "execution_count": 27,
     "metadata": {},
     "output_type": "execute_result"
    }
   ],
   "source": [
    "first_result # Approximately Zero"
   ]
  },
  {
   "cell_type": "code",
   "execution_count": 28,
   "metadata": {},
   "outputs": [
    {
     "data": {
      "text/plain": [
       "array([[0.99401838]])"
      ]
     },
     "execution_count": 28,
     "metadata": {},
     "output_type": "execute_result"
    }
   ],
   "source": [
    "second_result # Approximately One "
   ]
  },
  {
   "cell_type": "code",
   "execution_count": null,
   "metadata": {},
   "outputs": [],
   "source": []
  }
 ],
 "metadata": {
  "kernelspec": {
   "display_name": "Python 3 (ipykernel)",
   "language": "python",
   "name": "python3"
  },
  "language_info": {
   "codemirror_mode": {
    "name": "ipython",
    "version": 3
   },
   "file_extension": ".py",
   "mimetype": "text/x-python",
   "name": "python",
   "nbconvert_exporter": "python",
   "pygments_lexer": "ipython3",
   "version": "3.9.7"
  }
 },
 "nbformat": 4,
 "nbformat_minor": 4
}
